{
 "cells": [
  {
   "cell_type": "markdown",
   "metadata": {},
   "source": [
    "# Initial Attempt to Apply Tesseract on Example Image"
   ]
  },
  {
   "cell_type": "code",
   "execution_count": 1,
   "metadata": {},
   "outputs": [],
   "source": [
    "import pytesseract\n",
    "from pdf2image import convert_from_path\n",
    "import os\n",
    "import cv2\n",
    "import numpy as np\n",
    "from PIL import Image\n",
    "\n",
    "# Path to the PDF file\n",
    "data_path = os.path.join(os.getcwd(), \"data\")\n",
    "pdf_path = os.path.join(data_path, \"Example_HistoricalDoc.pdf\")\n"
   ]
  },
  {
   "cell_type": "code",
   "execution_count": 2,
   "metadata": {},
   "outputs": [],
   "source": [
    "# Convert PDF pages to images\n",
    "images = convert_from_path(pdf_path)"
   ]
  },
  {
   "cell_type": "code",
   "execution_count": 3,
   "metadata": {},
   "outputs": [],
   "source": [
    "image_paths = []\n",
    "\n",
    "for i, image in enumerate(images):\n",
    "    # Save the PDF as images\n",
    "    image_path = f'page_{i+1}.png'\n",
    "    image_paths.append(os.path.join(data_path, image_path))\n",
    "    image.save(os.path.join(data_path, image_path), 'PNG')"
   ]
  },
  {
   "cell_type": "code",
   "execution_count": 27,
   "metadata": {},
   "outputs": [],
   "source": [
    "processed_path = []\n",
    "\n",
    "# The following is the standard preprocessing for images\n",
    "\n",
    "for i,path in enumerate(image_paths):\n",
    "    # Load the image\n",
    "    image = cv2.imread(path)\n",
    "\n",
    "    # Define the scale factor for upscaling\n",
    "    scale_factor = 2 \n",
    "\n",
    "    # Upscale the image\n",
    "    upscaled_image = cv2.resize(image, None, fx=scale_factor, fy=scale_factor, interpolation=cv2.INTER_LINEAR)\n",
    "\n",
    "    # Convert the image to grayscale\n",
    "    gray_image = cv2.cvtColor(upscaled_image, cv2.COLOR_BGR2GRAY)\n",
    "\n",
    "\n",
    "    # Apply Gaussian blur for denoising\n",
    "    blurred_image = cv2.GaussianBlur(gray_image, (5, 5), 0)\n",
    "\n",
    "    # Apply Otsu's thresholding for binarization\n",
    "    _, thresholded_image = cv2.threshold(blurred_image, 0, 255, cv2.THRESH_BINARY | cv2.THRESH_OTSU)\n",
    "    processed_path.append(os.path.join(data_path, f\"processed_image_{i+1}.png\"))\n",
    "\n",
    "    # Save the processed image\n",
    "    cv2.imwrite(os.path.join(data_path, f\"processed_image_{i+1}.png\"), thresholded_image)"
   ]
  },
  {
   "cell_type": "code",
   "execution_count": 26,
   "metadata": {},
   "outputs": [],
   "source": [
    "###OPTIONAL###\n",
    "\n",
    "croped_path = []\n",
    "\n",
    "# The following is an option but not used in the rest of the code\n",
    "\n",
    "for i,path in enumerate(processed_path):\n",
    "    # Load the image\n",
    "    image = cv2.imread(path)\n",
    "\n",
    "    # Define the coordinates of the top-left corner of the ROI\n",
    "    x, y = 250, 475 \n",
    "\n",
    "    # Define the width and height of the ROI\n",
    "    width, height = 3050, 1250  # Example width and height\n",
    "\n",
    "    # Crop the image to the specified ROI\n",
    "    cropped_image = image[y:y+height, x:x+width]\n",
    "    # Upscale the image\n",
    "    upscaled_image = cv2.resize(cropped_image, None, fx=4, fy=4, interpolation=cv2.INTER_LINEAR)\n",
    "    # Save or display the cropped image\n",
    "    croped_path.append(os.path.join(data_path, f'crop_image_{i+1}.png'))\n",
    "    cv2.imwrite(os.path.join(data_path, f'crop_image_{i+1}.png'), upscaled_image)"
   ]
  },
  {
   "cell_type": "code",
   "execution_count": 29,
   "metadata": {},
   "outputs": [],
   "source": [
    "# Use the standard Tesseract Model\n",
    "\n",
    "out_path = []\n",
    "\n",
    "for i, path in enumerate(processed_path):\n",
    "    # Load image\n",
    "    image = Image.open(path)\n",
    "\n",
    "    # Extract text\n",
    "    text = pytesseract.image_to_string(image, config=f'--psm {6}')\n",
    "    output_file = f'output_{i+1}.txt'\n",
    "\n",
    "    out_path.append(os.path.join(data_path,\"..\",\"output\",output_file))\n",
    "    \n",
    "    with open(os.path.join(data_path,\"..\",\"output\",output_file), 'w') as f:\n",
    "        f.write(text)"
   ]
  },
  {
   "cell_type": "code",
   "execution_count": 34,
   "metadata": {},
   "outputs": [],
   "source": [
    "# There is a lot of noise in the extracted numbers, we will attempt to format here.\n",
    "\n",
    "def format_numbers(text):\n",
    "    lines = text.split('\\n')\n",
    "    formatted_lines = []\n",
    "\n",
    "    for line in lines:\n",
    "        # Skip empty lines\n",
    "        if not line.strip():\n",
    "            continue\n",
    "\n",
    "        numbers = line.split()\n",
    "\n",
    "        if len(numbers) < 6:\n",
    "            continue\n",
    "        first_number = numbers[0]\n",
    "        # Check if the first number is less than 3 digits\n",
    "        if len(first_number) < 3 or first_number[-1] == \".\":\n",
    "            # get rid of noise number\n",
    "            new_first_number = numbers[1]\n",
    "            # Remove the first and second numbers from the list\n",
    "            numbers.pop(0)\n",
    "            numbers.pop(0)\n",
    "            # Insert the new first number at the beginning of the list\n",
    "            numbers.insert(0, new_first_number)\n",
    "        # Join the numbers back into a line\n",
    "        formatted_line = ' '.join(numbers)\n",
    "        formatted_lines.append(formatted_line)\n",
    "\n",
    "    # Join the lines back into a single string\n",
    "    formatted_text = '\\n'.join(formatted_lines)\n",
    "    return formatted_text"
   ]
  },
  {
   "cell_type": "code",
   "execution_count": 35,
   "metadata": {},
   "outputs": [],
   "source": [
    "import re\n",
    "\n",
    "# Define a function to replace non-numeric characters with space\n",
    "\n",
    "def replace_non_numeric(match):\n",
    "    return ' ' if not match.group().replace('.', '').isdigit() else match.group()\n",
    "\n",
    "formatted = []\n",
    "\n",
    "# Use Regex to lemmatize\n",
    "\n",
    "for i, path in enumerate(out_path):\n",
    "# Read the text from the file\n",
    "    with open(path, 'r') as file:\n",
    "        text = file.read()\n",
    "\n",
    "    # Replace non-numeric characters with space\n",
    "\n",
    "    text_with_spaces = re.sub(r'\\b(?:\\d+\\.\\d+|\\d+)\\b|[^\\s\\d.]+', replace_non_numeric, text)\n",
    "\n",
    "    text_without_periods = re.sub(r'(?<![0-9])\\.(?![0-9])', ' ', text_with_spaces)\n",
    "\n",
    "    formatted.append(text_without_periods)\n",
    "\n",
    "\n",
    "# Format the output in a more suitable way\n",
    "count = 1\n",
    "for t in formatted:\n",
    "    output_file = f'formatted_output_{count}.txt'\n",
    "    count +=1\n",
    "    text = format_numbers(t)\n",
    "    with open(os.path.join(data_path,\"..\",\"output\", output_file), 'w') as f:\n",
    "        f.write(text)\n"
   ]
  }
 ],
 "metadata": {
  "kernelspec": {
   "display_name": "Python 3.11.6 ('.venv': venv)",
   "language": "python",
   "name": "python3"
  },
  "language_info": {
   "codemirror_mode": {
    "name": "ipython",
    "version": 3
   },
   "file_extension": ".py",
   "mimetype": "text/x-python",
   "name": "python",
   "nbconvert_exporter": "python",
   "pygments_lexer": "ipython3",
   "version": "3.11.6"
  },
  "orig_nbformat": 4,
  "vscode": {
   "interpreter": {
    "hash": "6367a6ec835e4e0f457cf52fcc957b928afc24b7d85af574666d17dd8313b893"
   }
  }
 },
 "nbformat": 4,
 "nbformat_minor": 2
}
